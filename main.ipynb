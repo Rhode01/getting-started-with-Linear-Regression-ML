{
 "cells": [
  {
   "cell_type": "markdown",
   "metadata": {},
   "source": [
    "### Linear Regression <br>\n",
    "\n",
    "is a statistical technique used to find the relationship between variables. \n",
    "In an ML context, linear regression finds the relationship between features and a label.\n",
    "For example, suppose we want to predict a car's fuel efficiency in miles per gallon based on how heavy the car is, <br>\n",
    "\n",
    "We’ll just focus on the basic concepts:\n",
    "Feature (input): Car weight\n",
    "Label (output): Miles per gallon (MPG)\n",
    "Bias (intercept): The value where the line crosses the y-axis\n",
    "Weight (slope): The change in MPG for each increase in car weight\n",
    "\n",
    "\n",
    "\n",
    "\n"
   ]
  },
  {
   "cell_type": "code",
   "execution_count": 1,
   "metadata": {},
   "outputs": [],
   "source": [
    "import numpy as np\n",
    "from sklearn.linear_model import LinearRegression\n",
    "import matplotlib.pyplot as plt"
   ]
  },
  {
   "cell_type": "code",
   "execution_count": 8,
   "metadata": {},
   "outputs": [],
   "source": [
    "car_weights = np.array([1500,1800,2000,2500,3000,3500,4000,4500,5000]).reshape(-1,1)\n",
    "mpg_values = np.array([30,28,25,20,28,25,13,11,9])"
   ]
  },
  {
   "cell_type": "code",
   "execution_count": 9,
   "metadata": {},
   "outputs": [
    {
     "data": {
      "text/plain": [
       "LinearRegression()"
      ]
     },
     "execution_count": 9,
     "metadata": {},
     "output_type": "execute_result"
    }
   ],
   "source": [
    "model = LinearRegression()\n",
    "\n",
    "model.fit(car_weights, mpg_values)"
   ]
  },
  {
   "cell_type": "code",
   "execution_count": 10,
   "metadata": {},
   "outputs": [
    {
     "name": "stdout",
     "output_type": "stream",
     "text": [
      "Weight(Slope): -0.005691699604743083\n",
      "Bias(intercept): 38.58102766798419\n"
     ]
    }
   ],
   "source": [
    "weight = model.coef_[0]\n",
    "bias = model.intercept_\n",
    "\n",
    "print(f\"Weight(Slope): {weight}\")\n",
    "print(f\"Bias(intercept): {bias}\")"
   ]
  },
  {
   "cell_type": "code",
   "execution_count": 11,
   "metadata": {},
   "outputs": [
    {
     "name": "stdout",
     "output_type": "stream",
     "text": [
      "Predicted MPG for 4000 car: [15.81422925]\n"
     ]
    }
   ],
   "source": [
    "predicted_mpg = model.predict([[4000]])\n",
    "\n",
    "print(f\"Predicted MPG for 4000 car: {predicted_mpg}\")"
   ]
  },
  {
   "cell_type": "code",
   "execution_count": 15,
   "metadata": {},
   "outputs": [
    {
     "data": {
      "image/png": "[encoded data removed]",
      "text/plain": [
       "<Figure size 432x288 with 1 Axes>"
      ]
     },
     "metadata": {
      "needs_background": "light"
     },
     "output_type": "display_data"
    }
   ],
   "source": [
    "plt.scatter(car_weights, mpg_values, color='blue', label='Data')\n",
    "\n",
    "plt.plot(car_weights, model.predict(car_weights), color='red',label='Regression Line')\n",
    "plt.xlabel('Car weight')\n",
    "plt.ylabel(\"Mile per gallon\")\n",
    "plt.title(\"Linear Regression: Car weight vs MPG\")\n",
    "plt.legend()\n",
    "plt.show()"
   ]
  },
  {
   "cell_type": "code",
   "execution_count": null,
   "metadata": {},
   "outputs": [],
   "source": []
  }
 ],
 "metadata": {
  "kernelspec": {
   "display_name": "base",
   "language": "python",
   "name": "python3"
  },
  "language_info": {
   "codemirror_mode": {
    "name": "ipython",
    "version": 3
   },
   "file_extension": ".py",
   "mimetype": "text/x-python",
   "name": "python",
   "nbconvert_exporter": "python",
   "pygments_lexer": "ipython3",
   "version": "3.8.8"
  }
 },
 "nbformat": 4,
 "nbformat_minor": 2
}
