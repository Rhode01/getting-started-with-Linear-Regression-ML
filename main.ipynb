{
 "cells": [
  {
   "cell_type": "markdown",
   "metadata": {},
   "source": [
    "###Linear Regression <br>\n",
    "\n",
    "is a statistical technique used to find the relationship between variables. \n",
    "In an ML context, linear regression finds the relationship between features and a label.\n",
    "For example, suppose we want to predict a car's fuel efficiency in miles per gallon based on how heavy the car is, \n",
    "\n",
    "\n"
   ]
  },
  {
   "cell_type": "code",
   "execution_count": null,
   "metadata": {
    "vscode": {
     "languageId": "plaintext"
    }
   },
   "outputs": [],
   "source": []
  }
 ],
 "metadata": {
  "language_info": {
   "name": "python"
  }
 },
 "nbformat": 4,
 "nbformat_minor": 2
}
